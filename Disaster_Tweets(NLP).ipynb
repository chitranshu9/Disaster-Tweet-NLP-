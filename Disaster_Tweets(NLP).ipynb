{
  "nbformat": 4,
  "nbformat_minor": 0,
  "metadata": {
    "colab": {
      "name": "Disaster Tweets(NLP).ipynb",
      "provenance": [],
      "toc_visible": true
    },
    "kernelspec": {
      "name": "python3",
      "display_name": "Python 3"
    },
    "accelerator": "GPU"
  },
  "cells": [
    {
      "cell_type": "markdown",
      "metadata": {
        "id": "8TMRXRq7ul21",
        "colab_type": "text"
      },
      "source": [
        "### Importing the libraries"
      ]
    },
    {
      "cell_type": "code",
      "metadata": {
        "id": "OEeqORhcumzS",
        "colab_type": "code",
        "colab": {}
      },
      "source": [
        "import numpy as np\n",
        "import matplotlib.pyplot as plt\n",
        "import pandas as pd"
      ],
      "execution_count": 0,
      "outputs": []
    },
    {
      "cell_type": "markdown",
      "metadata": {
        "id": "Jm1lttVoukEC",
        "colab_type": "text"
      },
      "source": [
        "### Importing the dataset"
      ]
    },
    {
      "cell_type": "code",
      "metadata": {
        "id": "Apgala-RFtwc",
        "colab_type": "code",
        "colab": {}
      },
      "source": [
        "dataset_train = pd.read_csv('train.csv')\n",
        "dataset_test = pd.read_csv('test.csv')"
      ],
      "execution_count": 0,
      "outputs": []
    },
    {
      "cell_type": "code",
      "metadata": {
        "id": "sly-c0z8GdGM",
        "colab_type": "code",
        "colab": {
          "base_uri": "https://localhost:8080/",
          "height": 50
        },
        "outputId": "0118191e-a299-4690-f9c1-914a93c393d4"
      },
      "source": [
        "print(\"No. of train data: \", dataset_train.shape[0])\n",
        "print(\"No. of test data: \", dataset_test.shape[0])"
      ],
      "execution_count": 80,
      "outputs": [
        {
          "output_type": "stream",
          "text": [
            "No. of train data:  7613\n",
            "No. of test data:  3263\n"
          ],
          "name": "stdout"
        }
      ]
    },
    {
      "cell_type": "code",
      "metadata": {
        "id": "3wG6Pw9exP9V",
        "colab_type": "code",
        "colab": {}
      },
      "source": [
        "X_train = dataset_train['text']\n",
        "X_test = dataset_test['text']\n",
        "mix = X_train.append(X_test, ignore_index=True)"
      ],
      "execution_count": 0,
      "outputs": []
    },
    {
      "cell_type": "code",
      "metadata": {
        "id": "3q8q4arBy2Vu",
        "colab_type": "code",
        "colab": {
          "base_uri": "https://localhost:8080/",
          "height": 218
        },
        "outputId": "204bfd4f-2b01-4987-97b9-a3e18b820856"
      },
      "source": [
        "mix.head"
      ],
      "execution_count": 6,
      "outputs": [
        {
          "output_type": "execute_result",
          "data": {
            "text/plain": [
              "<bound method NDFrame.head of 0        Our Deeds are the Reason of this #earthquake M...\n",
              "1                   Forest fire near La Ronge Sask. Canada\n",
              "2        All residents asked to 'shelter in place' are ...\n",
              "3        13,000 people receive #wildfires evacuation or...\n",
              "4        Just got sent this photo from Ruby #Alaska as ...\n",
              "                               ...                        \n",
              "10871    EARTHQUAKE SAFETY LOS ANGELES ÛÒ SAFETY FASTE...\n",
              "10872    Storm in RI worse than last hurricane. My city...\n",
              "10873    Green Line derailment in Chicago http://t.co/U...\n",
              "10874    MEG issues Hazardous Weather Outlook (HWO) htt...\n",
              "10875    #CityofCalgary has activated its Municipal Eme...\n",
              "Name: text, Length: 10876, dtype: object>"
            ]
          },
          "metadata": {
            "tags": []
          },
          "execution_count": 6
        }
      ]
    },
    {
      "cell_type": "code",
      "metadata": {
        "id": "SLQ8kQpZy8bZ",
        "colab_type": "code",
        "colab": {
          "base_uri": "https://localhost:8080/",
          "height": 34
        },
        "outputId": "d93f91a2-262d-4e3a-cbc0-0da390b11ad4"
      },
      "source": [
        "mix[0]"
      ],
      "execution_count": 7,
      "outputs": [
        {
          "output_type": "execute_result",
          "data": {
            "text/plain": [
              "'Our Deeds are the Reason of this #earthquake May ALLAH Forgive us all'"
            ]
          },
          "metadata": {
            "tags": []
          },
          "execution_count": 7
        }
      ]
    },
    {
      "cell_type": "code",
      "metadata": {
        "id": "jTLOJ5dyzEg6",
        "colab_type": "code",
        "colab": {
          "base_uri": "https://localhost:8080/",
          "height": 218
        },
        "outputId": "f81b98b8-fc1a-4e04-dec8-6465e014f0d5"
      },
      "source": [
        "Y_train = dataset_train['target']\n",
        "Y_train.head"
      ],
      "execution_count": 8,
      "outputs": [
        {
          "output_type": "execute_result",
          "data": {
            "text/plain": [
              "<bound method NDFrame.head of 0       1\n",
              "1       1\n",
              "2       1\n",
              "3       1\n",
              "4       1\n",
              "       ..\n",
              "7608    1\n",
              "7609    1\n",
              "7610    1\n",
              "7611    1\n",
              "7612    1\n",
              "Name: target, Length: 7613, dtype: int64>"
            ]
          },
          "metadata": {
            "tags": []
          },
          "execution_count": 8
        }
      ]
    },
    {
      "cell_type": "code",
      "metadata": {
        "id": "fz8_n-TC2SqX",
        "colab_type": "code",
        "colab": {
          "base_uri": "https://localhost:8080/",
          "height": 84
        },
        "outputId": "25f6761c-0674-4f50-beef-e719e5607153"
      },
      "source": [
        "print(dataset_train.groupby('target').target.count())"
      ],
      "execution_count": 17,
      "outputs": [
        {
          "output_type": "stream",
          "text": [
            "target\n",
            "0    4342\n",
            "1    3271\n",
            "Name: target, dtype: int64\n"
          ],
          "name": "stdout"
        }
      ]
    },
    {
      "cell_type": "markdown",
      "metadata": {
        "id": "T-i7VcVJzzAL",
        "colab_type": "text"
      },
      "source": [
        "## **Count Vectorizer**\n",
        "\n",
        "*   It tokenizes all the letters/words with length atleast 2\n",
        "*   Converts everything to lower case\n",
        "*   Builds a vocabulary\n",
        "*   Removes very frequently occuring words\n",
        "\n",
        "\n",
        "\n",
        "\n",
        "\n",
        "\n",
        "\n"
      ]
    },
    {
      "cell_type": "code",
      "metadata": {
        "id": "comcieM4GgBK",
        "colab_type": "code",
        "colab": {}
      },
      "source": [
        "from sklearn.feature_extraction.text import CountVectorizer\n",
        "vect = CountVectorizer(max_features = 20000, stop_words = 'english', ngram_range = (1,2))\n",
        "mix_vectorized = vect.fit_transform(mix)"
      ],
      "execution_count": 0,
      "outputs": []
    },
    {
      "cell_type": "code",
      "metadata": {
        "id": "F_1TvP2BIUoJ",
        "colab_type": "code",
        "outputId": "c73d76ce-afc3-4289-d467-03b08949e0b3",
        "colab": {
          "base_uri": "https://localhost:8080/",
          "height": 34
        }
      },
      "source": [
        "vect.get_feature_names()[::5000]"
      ],
      "execution_count": 81,
      "outputs": [
        {
          "output_type": "execute_result",
          "data": {
            "text/plain": [
              "['00', 'en route', 'nankana sahib', 'rap nonprofit']"
            ]
          },
          "metadata": {
            "tags": []
          },
          "execution_count": 81
        }
      ]
    },
    {
      "cell_type": "code",
      "metadata": {
        "id": "InVi2aaU-5q0",
        "colab_type": "code",
        "colab": {
          "base_uri": "https://localhost:8080/",
          "height": 134
        },
        "outputId": "aa8d7c8f-7527-42c1-e384-fa6dd8ee1ffd"
      },
      "source": [
        "print(mix_vectorized.toarray())"
      ],
      "execution_count": 54,
      "outputs": [
        {
          "output_type": "stream",
          "text": [
            "[[0 0 0 ... 0 0 0]\n",
            " [0 0 0 ... 0 0 0]\n",
            " [0 0 0 ... 0 0 0]\n",
            " ...\n",
            " [0 0 0 ... 0 0 0]\n",
            " [0 0 0 ... 0 0 0]\n",
            " [0 0 0 ... 0 0 0]]\n"
          ],
          "name": "stdout"
        }
      ]
    },
    {
      "cell_type": "code",
      "metadata": {
        "id": "tdmVy9onIo7d",
        "colab_type": "code",
        "outputId": "2fadaef1-1f71-4bf7-eaa0-fa5d93bf9795",
        "colab": {
          "base_uri": "https://localhost:8080/",
          "height": 34
        }
      },
      "source": [
        "mix_vectorized.shape"
      ],
      "execution_count": 56,
      "outputs": [
        {
          "output_type": "execute_result",
          "data": {
            "text/plain": [
              "(10876, 20000)"
            ]
          },
          "metadata": {
            "tags": []
          },
          "execution_count": 56
        }
      ]
    },
    {
      "cell_type": "code",
      "metadata": {
        "id": "yQhIjBFMGn-C",
        "colab_type": "code",
        "colab": {}
      },
      "source": [
        "# Splitting Train and Test data\n",
        "mix_train = mix_vectorized[:7613, :]\n",
        "mix_test = mix_vectorized[7613: , :]"
      ],
      "execution_count": 0,
      "outputs": []
    },
    {
      "cell_type": "code",
      "metadata": {
        "id": "o7VCW5bu_c9-",
        "colab_type": "code",
        "colab": {
          "base_uri": "https://localhost:8080/",
          "height": 50
        },
        "outputId": "9e877a55-7166-4689-db96-ae1e2d44b593"
      },
      "source": [
        "print(\"Shape of train data: \", mix_train.shape)\n",
        "print(\"Shape of test data: \", mix_test.shape)"
      ],
      "execution_count": 72,
      "outputs": [
        {
          "output_type": "stream",
          "text": [
            "Shape of train data:  (7613, 20000)\n",
            "Shape of test data:  (3263, 20000)\n"
          ],
          "name": "stdout"
        }
      ]
    },
    {
      "cell_type": "markdown",
      "metadata": {
        "id": "RFysC0l_BaTz",
        "colab_type": "text"
      },
      "source": [
        "## Using Gradient Boosting"
      ]
    },
    {
      "cell_type": "code",
      "metadata": {
        "id": "dcsNEHS6DXYe",
        "colab_type": "code",
        "colab": {
          "base_uri": "https://localhost:8080/",
          "height": 185
        },
        "outputId": "9d9e1e3c-1da8-4c5b-82d6-00e82582efa7"
      },
      "source": [
        "from sklearn.ensemble import GradientBoostingClassifier\n",
        "classifier = GradientBoostingClassifier(n_estimators = 3000, learning_rate=1.0, max_depth=3, random_state=0)\n",
        "classifier.fit(mix_train, Y_train)"
      ],
      "execution_count": 74,
      "outputs": [
        {
          "output_type": "execute_result",
          "data": {
            "text/plain": [
              "GradientBoostingClassifier(ccp_alpha=0.0, criterion='friedman_mse', init=None,\n",
              "                           learning_rate=1.0, loss='deviance', max_depth=3,\n",
              "                           max_features=None, max_leaf_nodes=None,\n",
              "                           min_impurity_decrease=0.0, min_impurity_split=None,\n",
              "                           min_samples_leaf=1, min_samples_split=2,\n",
              "                           min_weight_fraction_leaf=0.0, n_estimators=3000,\n",
              "                           n_iter_no_change=None, presort='deprecated',\n",
              "                           random_state=0, subsample=1.0, tol=0.0001,\n",
              "                           validation_fraction=0.1, verbose=0,\n",
              "                           warm_start=False)"
            ]
          },
          "metadata": {
            "tags": []
          },
          "execution_count": 74
        }
      ]
    },
    {
      "cell_type": "markdown",
      "metadata": {
        "id": "ZyhDiobZDq8f",
        "colab_type": "text"
      },
      "source": [
        "### Predicting the test results"
      ]
    },
    {
      "cell_type": "code",
      "metadata": {
        "id": "gNV5TC-rDpau",
        "colab_type": "code",
        "colab": {}
      },
      "source": [
        "Y_pred = classifier.predict(mix_test)"
      ],
      "execution_count": 0,
      "outputs": []
    },
    {
      "cell_type": "code",
      "metadata": {
        "id": "pfwGUeCSE0qb",
        "colab_type": "code",
        "colab": {
          "base_uri": "https://localhost:8080/",
          "height": 34
        },
        "outputId": "8faacce2-86ef-4d51-85ec-7a6181e0b7cc"
      },
      "source": [
        "print(Y_pred)"
      ],
      "execution_count": 77,
      "outputs": [
        {
          "output_type": "stream",
          "text": [
            "[1 1 1 ... 1 1 0]\n"
          ],
          "name": "stdout"
        }
      ]
    },
    {
      "cell_type": "code",
      "metadata": {
        "id": "2CFI-zQBFD5z",
        "colab_type": "code",
        "colab": {}
      },
      "source": [
        "res = pd.DataFrame(Y_pred)\n",
        "res.columns = [\"target\"]\n",
        "res.to_csv(\"sub_GB.csv\")"
      ],
      "execution_count": 0,
      "outputs": []
    }
  ]
}